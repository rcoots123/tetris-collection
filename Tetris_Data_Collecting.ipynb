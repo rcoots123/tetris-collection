{
 "cells": [
  {
   "cell_type": "code",
   "execution_count": 1,
   "id": "e9134866-3c9d-4048-bc59-b3db88cd76f5",
   "metadata": {},
   "outputs": [],
   "source": [
    "import pyscreenshot as ImageGrab\n",
    "import time\n",
    "from PIL import Image\n",
    "import cv2\n",
    "import pandas as pd\n",
    "import re\n",
    "import numpy as np\n",
    "import math\n",
    "from pathlib import Path  \n",
    "import pytesseract\n",
    "pytesseract.pytesseract.tesseract_cmd = r'C:\\Program Files\\Tesseract-OCR\\tesseract.exe'\n"
   ]
  },
  {
   "cell_type": "code",
   "execution_count": 2,
   "id": "654057da-2a95-4a83-a292-10468f26b146",
   "metadata": {},
   "outputs": [],
   "source": [
    "def line_clear_type(line_diff):\n",
    "    if line_diff== 1:\n",
    "        return 'Single'\n",
    "    elif line_diff==2:\n",
    "        return 'Double'\n",
    "    elif line_diff==3:\n",
    "        return \"Triple\"\n",
    "    elif line_diff==4:\n",
    "        return 'Tetris'\n",
    "    else:\n",
    "        return np.nan"
   ]
  },
  {
   "cell_type": "code",
   "execution_count": 8,
   "id": "d043050e-bcbd-4016-bda0-aaaaaa8d624a",
   "metadata": {},
   "outputs": [
    {
     "ename": "ValueError",
     "evalue": "invalid literal for int() with base 10: ''",
     "output_type": "error",
     "traceback": [
      "\u001b[1;31m---------------------------------------------------------------------------\u001b[0m",
      "\u001b[1;31mValueError\u001b[0m                                Traceback (most recent call last)",
      "Cell \u001b[1;32mIn[8], line 28\u001b[0m\n\u001b[0;32m     26\u001b[0m \u001b[38;5;28;01melse\u001b[39;00m:\n\u001b[0;32m     27\u001b[0m     im1\u001b[38;5;241m=\u001b[39mImageGrab\u001b[38;5;241m.\u001b[39mgrab(bbox\u001b[38;5;241m=\u001b[39m(\u001b[38;5;241m877\u001b[39m,\u001b[38;5;241m962\u001b[39m,\u001b[38;5;241m1027\u001b[39m,\u001b[38;5;241m995\u001b[39m))\n\u001b[1;32m---> 28\u001b[0m     score \u001b[38;5;241m=\u001b[39m \u001b[38;5;28mint\u001b[39m(pytesseract\u001b[38;5;241m.\u001b[39mimage_to_string(im1, lang\u001b[38;5;241m=\u001b[39m\u001b[38;5;124m'\u001b[39m\u001b[38;5;124meng\u001b[39m\u001b[38;5;124m'\u001b[39m, config\u001b[38;5;241m=\u001b[39m\u001b[38;5;124m'\u001b[39m\u001b[38;5;124m--psm 7 --oem 3 -c tessedit_char_whitelist=0123456789\u001b[39m\u001b[38;5;124m'\u001b[39m))\n\u001b[0;32m     29\u001b[0m     df2 \u001b[38;5;241m=\u001b[39m pd\u001b[38;5;241m.\u001b[39mDataFrame([[score,lines]], columns\u001b[38;5;241m=\u001b[39m[\u001b[38;5;124m'\u001b[39m\u001b[38;5;124mscore\u001b[39m\u001b[38;5;124m'\u001b[39m,\u001b[38;5;124m'\u001b[39m\u001b[38;5;124mlines\u001b[39m\u001b[38;5;124m'\u001b[39m])\n\u001b[0;32m     30\u001b[0m     df\u001b[38;5;241m=\u001b[39mpd\u001b[38;5;241m.\u001b[39mconcat([df,df2])\n",
      "\u001b[1;31mValueError\u001b[0m: invalid literal for int() with base 10: ''"
     ]
    }
   ],
   "source": [
    "d = {'score':['0'], 'lines':[0]}\n",
    "df=pd.DataFrame(data=d)\n",
    "\n",
    "time.sleep(5)\n",
    "\n",
    "try:\n",
    "    while True:\n",
    "        \n",
    "        #take screen shot of # lines\n",
    "        #im2=ImageGrab.grab(bbox=(900,1113,1000,1145))\n",
    "        im2=np.array(ImageGrab.grab(bbox=(900,1113,1000,1145)))\n",
    "        im2 = cv2.cvtColor((im2), cv2.COLOR_BGR2GRAY)\n",
    "        im2 = cv2.GaussianBlur(im2, (3, 3), 0)\n",
    "        \n",
    "        try:\n",
    "            lines = pd.to_numeric(pytesseract.image_to_string(im2, lang='eng', config='--psm 7 --oem 3 -c tessedit_char_whitelist=0123456789'))\n",
    "            if math.isnan(lines) == True:\n",
    "                lines=36\n",
    "        except:\n",
    "            pass\n",
    "    \n",
    "       # print (lines)\n",
    "    \n",
    "        if lines == df['lines'].iloc[-1]:\n",
    "            pass\n",
    "        else:\n",
    "            im1=ImageGrab.grab(bbox=(877,962,1027,995))\n",
    "            score = int(pytesseract.image_to_string(im1, lang='eng', config='--psm 7 --oem 3 -c tessedit_char_whitelist=0123456789'))\n",
    "            df2 = pd.DataFrame([[score,lines]], columns=['score','lines'])\n",
    "            df=pd.concat([df,df2])\n",
    "    \n",
    "        time.sleep(0.1)\n",
    "except KeyboardInterrupt:\n",
    "    pass"
   ]
  },
  {
   "cell_type": "code",
   "execution_count": 9,
   "id": "56e8edf4-b4ed-4c28-a23e-01cf03bd94c4",
   "metadata": {},
   "outputs": [
    {
     "name": "stderr",
     "output_type": "stream",
     "text": [
      "C:\\Users\\Reed\\AppData\\Local\\Temp\\ipykernel_16088\\661551403.py:16: SettingWithCopyWarning: \n",
      "A value is trying to be set on a copy of a slice from a DataFrame\n",
      "\n",
      "See the caveats in the documentation: https://pandas.pydata.org/pandas-docs/stable/user_guide/indexing.html#returning-a-view-versus-a-copy\n",
      "  df['line_clear_type'].iloc[0] = np.nan #set first row to NaN\n"
     ]
    },
    {
     "data": {
      "text/html": [
       "<div>\n",
       "<style scoped>\n",
       "    .dataframe tbody tr th:only-of-type {\n",
       "        vertical-align: middle;\n",
       "    }\n",
       "\n",
       "    .dataframe tbody tr th {\n",
       "        vertical-align: top;\n",
       "    }\n",
       "\n",
       "    .dataframe thead th {\n",
       "        text-align: right;\n",
       "    }\n",
       "</style>\n",
       "<table border=\"1\" class=\"dataframe\">\n",
       "  <thead>\n",
       "    <tr style=\"text-align: right;\">\n",
       "      <th></th>\n",
       "      <th>score</th>\n",
       "      <th>lines</th>\n",
       "      <th>level</th>\n",
       "      <th>score_diff</th>\n",
       "      <th>lines_diff</th>\n",
       "      <th>line_clear_type</th>\n",
       "      <th>back_to_back</th>\n",
       "    </tr>\n",
       "  </thead>\n",
       "  <tbody>\n",
       "    <tr>\n",
       "      <th>0</th>\n",
       "      <td>0</td>\n",
       "      <td>0</td>\n",
       "      <td>1.0</td>\n",
       "      <td>NaN</td>\n",
       "      <td>NaN</td>\n",
       "      <td>NaN</td>\n",
       "      <td>NaN</td>\n",
       "    </tr>\n",
       "    <tr>\n",
       "      <th>0</th>\n",
       "      <td>1360</td>\n",
       "      <td>4</td>\n",
       "      <td>1.0</td>\n",
       "      <td>1360.0</td>\n",
       "      <td>4.0</td>\n",
       "      <td>Tetris</td>\n",
       "      <td>False</td>\n",
       "    </tr>\n",
       "    <tr>\n",
       "      <th>0</th>\n",
       "      <td>2784</td>\n",
       "      <td>8</td>\n",
       "      <td>1.0</td>\n",
       "      <td>1424.0</td>\n",
       "      <td>4.0</td>\n",
       "      <td>Tetris</td>\n",
       "      <td>True</td>\n",
       "    </tr>\n",
       "    <tr>\n",
       "      <th>0</th>\n",
       "      <td>4314</td>\n",
       "      <td>12</td>\n",
       "      <td>2.0</td>\n",
       "      <td>1530.0</td>\n",
       "      <td>4.0</td>\n",
       "      <td>Tetris</td>\n",
       "      <td>True</td>\n",
       "    </tr>\n",
       "    <tr>\n",
       "      <th>0</th>\n",
       "      <td>6844</td>\n",
       "      <td>16</td>\n",
       "      <td>2.0</td>\n",
       "      <td>2530.0</td>\n",
       "      <td>4.0</td>\n",
       "      <td>Tetris</td>\n",
       "      <td>True</td>\n",
       "    </tr>\n",
       "    <tr>\n",
       "      <th>...</th>\n",
       "      <td>...</td>\n",
       "      <td>...</td>\n",
       "      <td>...</td>\n",
       "      <td>...</td>\n",
       "      <td>...</td>\n",
       "      <td>...</td>\n",
       "      <td>...</td>\n",
       "    </tr>\n",
       "    <tr>\n",
       "      <th>0</th>\n",
       "      <td>320741</td>\n",
       "      <td>180</td>\n",
       "      <td>19.0</td>\n",
       "      <td>1801.0</td>\n",
       "      <td>1.0</td>\n",
       "      <td>Single</td>\n",
       "      <td>False</td>\n",
       "    </tr>\n",
       "    <tr>\n",
       "      <th>0</th>\n",
       "      <td>322641</td>\n",
       "      <td>181</td>\n",
       "      <td>19.0</td>\n",
       "      <td>1900.0</td>\n",
       "      <td>1.0</td>\n",
       "      <td>Single</td>\n",
       "      <td>False</td>\n",
       "    </tr>\n",
       "    <tr>\n",
       "      <th>0</th>\n",
       "      <td>324541</td>\n",
       "      <td>182</td>\n",
       "      <td>19.0</td>\n",
       "      <td>1900.0</td>\n",
       "      <td>1.0</td>\n",
       "      <td>Single</td>\n",
       "      <td>False</td>\n",
       "    </tr>\n",
       "    <tr>\n",
       "      <th>0</th>\n",
       "      <td>326441</td>\n",
       "      <td>183</td>\n",
       "      <td>19.0</td>\n",
       "      <td>1900.0</td>\n",
       "      <td>1.0</td>\n",
       "      <td>Single</td>\n",
       "      <td>False</td>\n",
       "    </tr>\n",
       "    <tr>\n",
       "      <th>0</th>\n",
       "      <td>328341</td>\n",
       "      <td>184</td>\n",
       "      <td>19.0</td>\n",
       "      <td>1900.0</td>\n",
       "      <td>1.0</td>\n",
       "      <td>Single</td>\n",
       "      <td>False</td>\n",
       "    </tr>\n",
       "  </tbody>\n",
       "</table>\n",
       "<p>96 rows × 7 columns</p>\n",
       "</div>"
      ],
      "text/plain": [
       "     score  lines  level  score_diff  lines_diff line_clear_type back_to_back\n",
       "0        0      0    1.0         NaN         NaN             NaN          NaN\n",
       "0     1360      4    1.0      1360.0         4.0          Tetris        False\n",
       "0     2784      8    1.0      1424.0         4.0          Tetris         True\n",
       "0     4314     12    2.0      1530.0         4.0          Tetris         True\n",
       "0     6844     16    2.0      2530.0         4.0          Tetris         True\n",
       "..     ...    ...    ...         ...         ...             ...          ...\n",
       "0   320741    180   19.0      1801.0         1.0          Single        False\n",
       "0   322641    181   19.0      1900.0         1.0          Single        False\n",
       "0   324541    182   19.0      1900.0         1.0          Single        False\n",
       "0   326441    183   19.0      1900.0         1.0          Single        False\n",
       "0   328341    184   19.0      1900.0         1.0          Single        False\n",
       "\n",
       "[96 rows x 7 columns]"
      ]
     },
     "execution_count": 9,
     "metadata": {},
     "output_type": "execute_result"
    }
   ],
   "source": [
    "#Make Score numeric (from string)\n",
    "df['score']=pd.to_numeric(df['score'])\n",
    "df['lines']=pd.to_numeric(df['lines'])\n",
    "\n",
    "# Calculate Level you are on (+0.1 makes sure we never have number divisible by 10)\n",
    "df['level'] = ((df['lines']+0.1)/10).apply(np.ceil)\n",
    "#df['level'] = df['level'].astype(int)\n",
    "\n",
    "#Calculate difference in score and lines cleared (r2-r1)\n",
    "df[\"score_diff\"] = df[\"score\"].diff(1)\n",
    "\n",
    "df['lines_diff'] = df['lines'].diff(1)\n",
    "\n",
    "#apply name to line clear type (single,double,triple,tetris)\n",
    "df['line_clear_type']= df['lines_diff'].apply(line_clear_type)\n",
    "df['line_clear_type'].iloc[0] = np.nan #set first row to NaN\n",
    "\n",
    "#use line_clear_type to find if back to back tetris is applied (x0.5 extra points)\n",
    "df['line_clear_type_s']=df['line_clear_type'].shift(-1)\n",
    "df['back_to_back'] = (df['line_clear_type'] == df['line_clear_type_s']) & (df['line_clear_type_s']=='Tetris')\n",
    "df['back_to_back'] = df['back_to_back'].shift(1)\n",
    "\n",
    "\n",
    "\n",
    "df=df.drop(['line_clear_type_s'], axis=1)\n",
    "df =df[df['score_diff'] !=0]\n",
    "df"
   ]
  },
  {
   "cell_type": "code",
   "execution_count": 27,
   "id": "cd19738b-b9c5-4cc9-89e8-35a94cb7063c",
   "metadata": {},
   "outputs": [],
   "source": [
    "im2.show()"
   ]
  },
  {
   "cell_type": "code",
   "execution_count": 28,
   "id": "cce5bd38-5cc4-41b1-bfbd-8148519f63aa",
   "metadata": {},
   "outputs": [],
   "source": [
    "\n",
    "im1.show()\n"
   ]
  },
  {
   "cell_type": "code",
   "execution_count": 7,
   "id": "4816ef57-44aa-409f-9ff5-8e88f3e6a300",
   "metadata": {},
   "outputs": [
    {
     "data": {
      "text/plain": [
       "2"
      ]
     },
     "execution_count": 7,
     "metadata": {},
     "output_type": "execute_result"
    }
   ],
   "source": [
    "time.sleep(3)\n",
    "im2=np.array(ImageGrab.grab(bbox=(900,1113,1000,1145)))\n",
    "#im2 = cv2.resize((im2), (50, 50), interpolation = cv2.INTER_LINEAR)\n",
    "im2 = cv2.cvtColor((im2), cv2.COLOR_BGR2GRAY)\n",
    "im2 = cv2.GaussianBlur(im2, (3, 3), 0)\n",
    "\n",
    "cv2.imshow(\"crp\", im2)\n",
    "cv2.waitKey()\n",
    "\n",
    "lines = int(pytesseract.image_to_string(im2, lang='eng', config='--psm 7 --oem 3 -c tessedit_char_whitelist=0123456789'))\n",
    "lines"
   ]
  },
  {
   "cell_type": "code",
   "execution_count": 31,
   "id": "7e0d6c90-c35f-4170-aa34-7d62a2b646de",
   "metadata": {},
   "outputs": [
    {
     "data": {
      "text/plain": [
       "numpy.ndarray"
      ]
     },
     "execution_count": 31,
     "metadata": {},
     "output_type": "execute_result"
    }
   ],
   "source": []
  },
  {
   "cell_type": "code",
   "execution_count": null,
   "id": "0b6e9f65-48c1-4fde-bb00-55cb5c8c549e",
   "metadata": {},
   "outputs": [],
   "source": []
  },
  {
   "cell_type": "code",
   "execution_count": null,
   "id": "10eaa5d9-b1b3-499e-a611-813745180ed8",
   "metadata": {},
   "outputs": [],
   "source": []
  },
  {
   "cell_type": "code",
   "execution_count": null,
   "id": "22db1913-c7e0-4663-9826-a58e2628b099",
   "metadata": {},
   "outputs": [],
   "source": []
  },
  {
   "cell_type": "code",
   "execution_count": null,
   "id": "2db82c8e-f348-4dc9-a595-e87f541a7372",
   "metadata": {},
   "outputs": [],
   "source": []
  },
  {
   "cell_type": "code",
   "execution_count": 10,
   "id": "ce8694ba-9450-4885-add5-06cfc82ca471",
   "metadata": {},
   "outputs": [],
   "source": [
    "filepath = Path('Tetris_Games/game6.csv')  \n",
    "\n",
    "df.to_csv(filepath, index=False)"
   ]
  },
  {
   "cell_type": "code",
   "execution_count": null,
   "id": "2e01a194-4311-4d9a-b138-516d56cd4bc9",
   "metadata": {},
   "outputs": [],
   "source": []
  }
 ],
 "metadata": {
  "kernelspec": {
   "display_name": "Python 3 (ipykernel)",
   "language": "python",
   "name": "python3"
  },
  "language_info": {
   "codemirror_mode": {
    "name": "ipython",
    "version": 3
   },
   "file_extension": ".py",
   "mimetype": "text/x-python",
   "name": "python",
   "nbconvert_exporter": "python",
   "pygments_lexer": "ipython3",
   "version": "3.11.5"
  }
 },
 "nbformat": 4,
 "nbformat_minor": 5
}
